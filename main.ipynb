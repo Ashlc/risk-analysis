{
  "cells": [
    {
      "cell_type": "markdown",
      "metadata": {},
      "source": [
        "# Loan risk analysis"
      ]
    },
    {
      "cell_type": "markdown",
      "metadata": {},
      "source": [
        "## Imports and data loading"
      ]
    },
    {
      "cell_type": "code",
      "execution_count": 1,
      "metadata": {
        "id": "YcCtvblcdbae"
      },
      "outputs": [],
      "source": [
        "import numpy as np\n",
        "import pandas as pd\n",
        "import seaborn as sns\n",
        "import joblib\n",
        "import matplotlib.pyplot as plt\n",
        "from sklearn.preprocessing import LabelEncoder\n",
        "from sklearn.ensemble import RandomForestClassifier\n",
        "from sklearn.model_selection import train_test_split\n",
        "\n",
        "df = pd.read_csv('data/credit_analysis.csv')\n",
        "df = df.dropna()  # Drop missing values"
      ]
    },
    {
      "cell_type": "markdown",
      "metadata": {},
      "source": [
        "## Preprocessing"
      ]
    },
    {
      "cell_type": "code",
      "execution_count": 2,
      "metadata": {},
      "outputs": [],
      "source": [
        "num_cols = df.select_dtypes(include=np.number).columns.tolist()\n",
        "\n",
        "# Categorical columns\n",
        "cat_cols = df.select_dtypes(exclude=np.number).columns.tolist()\n",
        "\n",
        "# Numerical columns\n",
        "num_cols = df.select_dtypes(include=np.number).columns.tolist()\n",
        "    \n",
        "cat_counts = df.value_counts()\n",
        "threshold = 5  # Set threshold for noise removal\n",
        "\n",
        "# Replace rare values with 'Other'\n",
        "rare_values = cat_counts[cat_counts < threshold].index\n",
        "df = df.apply(lambda x: x.mask(x.isin(rare_values), \"Other\"))\n",
        "df.sample(5)\n",
        "\n",
        "# Remove numerical noise\n",
        "\n",
        "# Calculate the z-score for each numerical column\n",
        "z_scores = (df[num_cols] - df[num_cols].mean()) / df[num_cols].std()\n",
        "\n",
        "# Find the absolute z-score for each value\n",
        "z_scores = z_scores.abs()\n",
        "\n",
        "# Remove rows with z-scores greater than 3\n",
        "df = df[(z_scores < 3).all(axis=1)]"
      ]
    },
    {
      "cell_type": "markdown",
      "metadata": {},
      "source": [
        "## Model"
      ]
    },
    {
      "cell_type": "code",
      "execution_count": 3,
      "metadata": {},
      "outputs": [
        {
          "name": "stdout",
          "output_type": "stream",
          "text": [
            "                Feature  Importance\n",
            "4        Credit History    0.230681\n",
            "5            Debt Level    0.193696\n",
            "0             Age Range    0.143582\n",
            "6  Debt-to-Income Ratio    0.123212\n",
            "3       Education Level    0.080472\n",
            "8                Income    0.080380\n",
            "2             Intention    0.076318\n",
            "1     Employment Status    0.071659\n",
            "7      Guarantor Status    0.000000\n"
          ]
        }
      ],
      "source": [
        "x = df.drop(\"Risk Level\", axis=1)  # Drop the target column\n",
        "y = df[\"Risk Level\"]  # Get the target column\n",
        "\n",
        "# Hot encode categorical columns\n",
        "label_encoder = LabelEncoder()\n",
        "x_encoded = x.copy()\n",
        "for column in x.columns:\n",
        "    x_encoded[column] = label_encoder.fit_transform(x[column])\n",
        "\n",
        "x_train, x_test, y_train, y_test = train_test_split(x_encoded, y, test_size=0.2, random_state=42)\n",
        "\n",
        "rf_classifier = RandomForestClassifier(random_state=42)\n",
        "rf_classifier.fit(x_train, y_train)\n",
        "\n",
        "# Get feature importances\n",
        "feature_importances = rf_classifier.feature_importances_\n",
        "\n",
        "# Create a DataFrame with the feature importances\n",
        "feature_importance_df = pd.DataFrame({'Feature': x_encoded.columns, 'Importance': feature_importances})\n",
        "feature_importance_df = feature_importance_df.sort_values(by='Importance', ascending=False)\n",
        "print(feature_importance_df)"
      ]
    },
    {
      "cell_type": "markdown",
      "metadata": {},
      "source": [
        "## Accuracy analysis"
      ]
    },
    {
      "cell_type": "code",
      "execution_count": 4,
      "metadata": {},
      "outputs": [
        {
          "name": "stdout",
          "output_type": "stream",
          "text": [
            "Accuracy on test set: 0.7222\n"
          ]
        }
      ],
      "source": [
        "accuracy = rf_classifier.score(x_test, y_test)\n",
        "print(f\"Accuracy on test set: {accuracy:.4f}\")"
      ]
    },
    {
      "cell_type": "markdown",
      "metadata": {},
      "source": [
        "# Save the model"
      ]
    },
    {
      "cell_type": "code",
      "execution_count": 6,
      "metadata": {},
      "outputs": [
        {
          "data": {
            "text/plain": [
              "['rf_credit_risk_model.pkl']"
            ]
          },
          "execution_count": 6,
          "metadata": {},
          "output_type": "execute_result"
        }
      ],
      "source": [
        "joblib.dump(rf_classifier, 'rf_credit_risk_model.pkl')"
      ]
    },
    {
      "cell_type": "markdown",
      "metadata": {},
      "source": [
        "# Query the model"
      ]
    },
    {
      "cell_type": "code",
      "execution_count": 12,
      "metadata": {},
      "outputs": [
        {
          "name": "stdout",
          "output_type": "stream",
          "text": [
            "['Moderate']\n"
          ]
        }
      ],
      "source": [
        "# Query the model\n",
        "query = pd.DataFrame({\n",
        "    'Age Range': ['18-25'],\n",
        "    'Employment Status': ['Employed'],\n",
        "    'Intention': ['Buy a house'],\n",
        "    'Education Level': ['Graduate'],\n",
        "    'Credit History': ['Good'],\n",
        "    'Debt Level': ['Low'],\n",
        "    'Debt-to-Income Ratio': [0.2],\n",
        "    'Guarantor Status': ['None'],\n",
        "    'Income': ['$35K to $50K']\n",
        "})\n",
        "\n",
        "encoded = query.copy()\n",
        "for column in encoded.columns:\n",
        "    encoded[column] = label_encoder.fit_transform(encoded[column])\n",
        "    \n",
        "prediction = rf_classifier.predict(encoded)\n",
        "print(f\"Predicted risk level: {prediction[0]}\")"
      ]
    }
  ],
  "metadata": {
    "colab": {
      "provenance": []
    },
    "kernelspec": {
      "display_name": "Python 3",
      "name": "python3"
    },
    "language_info": {
      "codemirror_mode": {
        "name": "ipython",
        "version": 3
      },
      "file_extension": ".py",
      "mimetype": "text/x-python",
      "name": "python",
      "nbconvert_exporter": "python",
      "pygments_lexer": "ipython3",
      "version": "3.11.8"
    }
  },
  "nbformat": 4,
  "nbformat_minor": 0
}
