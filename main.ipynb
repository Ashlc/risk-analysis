{
  "cells": [
    {
      "cell_type": "markdown",
      "metadata": {},
      "source": [
        "# Loan risk analysis"
      ]
    },
    {
      "cell_type": "markdown",
      "metadata": {},
      "source": [
        "## Imports and data loading"
      ]
    },
    {
      "cell_type": "code",
      "execution_count": 1,
      "metadata": {
        "id": "YcCtvblcdbae"
      },
      "outputs": [],
      "source": [
        "import numpy as np\n",
        "import pandas as pd\n",
        "import seaborn as sns\n",
        "import matplotlib.pyplot as plt\n",
        "from sklearn.preprocessing import LabelEncoder\n",
        "from sklearn.ensemble import RandomForestClassifier\n",
        "from sklearn.model_selection import train_test_split\n",
        "\n",
        "df = pd.read_csv('data/credit_analysis.csv')\n",
        "df = df.dropna()  # Drop missing values"
      ]
    },
    {
      "cell_type": "markdown",
      "metadata": {},
      "source": [
        "## Preprocessing"
      ]
    },
    {
      "cell_type": "code",
      "execution_count": 2,
      "metadata": {},
      "outputs": [],
      "source": [
        "num_cols = df.select_dtypes(include=np.number).columns.tolist()\n",
        "\n",
        "# Categorical columns\n",
        "cat_cols = df.select_dtypes(exclude=np.number).columns.tolist()\n",
        "\n",
        "# Numerical columns\n",
        "num_cols = df.select_dtypes(include=np.number).columns.tolist()\n",
        "    \n",
        "cat_counts = df.value_counts()\n",
        "threshold = 5  # Set threshold for noise removal\n",
        "\n",
        "# Replace rare values with 'Other'\n",
        "rare_values = cat_counts[cat_counts < threshold].index\n",
        "df = df.apply(lambda x: x.mask(x.isin(rare_values), \"Other\"))\n",
        "df.sample(5)\n",
        "\n",
        "# Remove numerical noise\n",
        "\n",
        "# Calculate the z-score for each numerical column\n",
        "z_scores = (df[num_cols] - df[num_cols].mean()) / df[num_cols].std()\n",
        "\n",
        "# Find the absolute z-score for each value\n",
        "z_scores = z_scores.abs()\n",
        "\n",
        "# Remove rows with z-scores greater than 3\n",
        "df = df[(z_scores < 3).all(axis=1)]"
      ]
    },
    {
      "cell_type": "markdown",
      "metadata": {},
      "source": [
        "## Model"
      ]
    },
    {
      "cell_type": "code",
      "execution_count": 3,
      "metadata": {},
      "outputs": [
        {
          "name": "stdout",
          "output_type": "stream",
          "text": [
            "                Feature  Importance\n",
            "5            Debt Level    0.200679\n",
            "4        Credit History    0.195807\n",
            "0             Age Range    0.142258\n",
            "6  Debt-to-Income Ratio    0.131231\n",
            "2             Intention    0.103243\n",
            "8                Income    0.082729\n",
            "1     Employment Status    0.074014\n",
            "3       Education Level    0.070041\n",
            "7      Guarantor Status    0.000000\n"
          ]
        }
      ],
      "source": [
        "x = df.drop(\"Risk Level\", axis=1)  # Drop the target column\n",
        "y = df[\"Risk Level\"]  # Get the target column\n",
        "\n",
        "# Hot encode categorical columns\n",
        "label_encoder = LabelEncoder()\n",
        "x_encoded = x.copy()\n",
        "for column in x.columns:\n",
        "    x_encoded[column] = label_encoder.fit_transform(x[column])\n",
        "\n",
        "x_train, x_test, y_train, y_test = train_test_split(x_encoded, y, test_size=0.2, random_state=42)\n",
        "\n",
        "rf_classifier = RandomForestClassifier(random_state=42)\n",
        "rf_classifier.fit(x_train, y_train)\n",
        "\n",
        "# Get feature importances\n",
        "feature_importances = rf_classifier.feature_importances_\n",
        "\n",
        "# Create a DataFrame with the feature importances\n",
        "feature_importance_df = pd.DataFrame({'Feature': x_encoded.columns, 'Importance': feature_importances})\n",
        "feature_importance_df = feature_importance_df.sort_values(by='Importance', ascending=False)\n",
        "print(feature_importance_df)"
      ]
    },
    {
      "cell_type": "markdown",
      "metadata": {},
      "source": [
        "## Accuracy analysis"
      ]
    },
    {
      "cell_type": "code",
      "execution_count": 4,
      "metadata": {},
      "outputs": [
        {
          "name": "stdout",
          "output_type": "stream",
          "text": [
            "Accuracy on test set: 0.6721\n"
          ]
        }
      ],
      "source": [
        "accuracy = rf_classifier.score(x_test, y_test)\n",
        "print(f\"Accuracy on test set: {accuracy:.4f}\")"
      ]
    }
  ],
  "metadata": {
    "colab": {
      "provenance": []
    },
    "kernelspec": {
      "display_name": "Python 3",
      "name": "python3"
    },
    "language_info": {
      "codemirror_mode": {
        "name": "ipython",
        "version": 3
      },
      "file_extension": ".py",
      "mimetype": "text/x-python",
      "name": "python",
      "nbconvert_exporter": "python",
      "pygments_lexer": "ipython3",
      "version": "3.12.2"
    }
  },
  "nbformat": 4,
  "nbformat_minor": 0
}
